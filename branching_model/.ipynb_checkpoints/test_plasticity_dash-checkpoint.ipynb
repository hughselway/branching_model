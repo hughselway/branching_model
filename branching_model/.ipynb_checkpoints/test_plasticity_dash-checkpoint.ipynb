{
 "cells": [
  {
   "cell_type": "code",
   "execution_count": 19,
   "id": "9e169aa5-d46a-4a44-b64b-aa613a2b22ff",
   "metadata": {},
   "outputs": [],
   "source": [
    "import dash\n",
    "from dash import dcc\n",
    "from dash import html\n",
    "from dash.dependencies import Input, Output\n",
    "import plotly.express as px\n",
    "import numpy as np\n",
    "import torch\n",
    "import pandas as pd\n",
    "import os\n",
    "import pathlib\n",
    "import matplotlib.pyplot as plt\n",
    "import seaborn as sns"
   ]
  },
  {
   "cell_type": "code",
   "execution_count": 20,
   "id": "748cbd8e-f371-4b03-8060-942068fc1f38",
   "metadata": {},
   "outputs": [],
   "source": [
    "%reload_ext autoreload\n",
    "%autoreload 2"
   ]
  },
  {
   "cell_type": "code",
   "execution_count": 21,
   "id": "61c0ecd0-993a-4b18-87ab-573853080a1e",
   "metadata": {},
   "outputs": [],
   "source": [
    "import sys\n",
    "sys.path.append(\"../../branching_model/\")\n",
    "# sys.path.append(\"../branching_model/\")\n"
   ]
  },
  {
   "cell_type": "code",
   "execution_count": 24,
   "id": "393a5fb6-77b9-4be2-8035-f71e8b51c04a",
   "metadata": {},
   "outputs": [],
   "source": [
    "# from branching_model.Agent import * \n",
    "from branching_model.Agent import Agent, N_TREATMENTS \n",
    "from branching_model.test_plasticity import test_adaptation, test_treatment"
   ]
  },
  {
   "cell_type": "code",
   "execution_count": 28,
   "id": "c3a96732-6251-4ca8-a68c-58284d49fa5b",
   "metadata": {},
   "outputs": [],
   "source": [
    "import dash\n",
    "from dash import dcc, html\n",
    "from dash.dependencies import Input, Output\n",
    "import torch\n",
    "import numpy as np\n",
    "import plotly.graph_objs as go\n",
    "\n",
    "app = dash.Dash(__name__)\n",
    "\n",
    "app.layout = html.Div([\n",
    "    html.H1(\"Cell Plasticity Dashboard\"),\n",
    "    html.Button(\"Run No Treatment\", id=\"btn-no-treatment\"),\n",
    "    html.Button(\"Run Treatment 1\", id=\"btn-treatment-1\"),\n",
    "    html.Button(\"Run Treatment 2\", id=\"btn-treatment-2\"),\n",
    "    html.Button(\"Run Dual Treatments\", id=\"btn-dual-treatments\"),\n",
    "    html.Button(\"Run Sequential Treatment\", id=\"btn-sequential-treatment\"),\n",
    "    dcc.Graph(id='plot'),\n",
    "])\n",
    "\n",
    "@app.callback(Output('plot', 'figure'), Input('btn-no-treatment', 'n_clicks'),\n",
    "              Input('btn-treatment-1', 'n_clicks'),\n",
    "              Input('btn-treatment-2', 'n_clicks'),\n",
    "              Input('btn-dual-treatments', 'n_clicks'),\n",
    "              Input('btn-sequential-treatment', 'n_clicks'))\n",
    "\n",
    "def update_plot(btn_no_treatment, btn_treatment_1, btn_treatment_2, btn_dual_treatments, btn_sequential_treatment):\n",
    "    ctx = dash.callback_context\n",
    "    if not ctx.triggered:\n",
    "        button_id = 'btn-no-treatment'\n",
    "    else:\n",
    "        button_id = ctx.triggered[0]['prop_id'].split('.')[0]\n",
    "\n",
    "    plot_title = \"\"\n",
    "    figures = []\n",
    "\n",
    "    if button_id == 'btn-no-treatment':\n",
    "        no_treatment_title = \"No treatment\"\n",
    "        no_treatment_doses = torch.zeros(N_TREATMENTS).reshape(1, -1)\n",
    "        figures.append(generate_plot(no_treatment_doses, no_treatment_title))\n",
    "\n",
    "    elif button_id == 'btn-treatment-1':\n",
    "        treatment1_title = \"Treatment 1\"\n",
    "        treatment1_doses = torch.from_numpy(np.array([1.0, 0.0], dtype=np.float32)).reshape(1, -1)\n",
    "        figures.append(generate_plot(treatment1_doses, treatment1_title))\n",
    "\n",
    "    elif button_id == 'btn-treatment-2':\n",
    "        treatment2_title = \"Treatment 2\"\n",
    "        treatment2_doses = torch.from_numpy(np.array([0.0, 1.0], dtype=np.float32)).reshape(1, -1)\n",
    "        figures.append(generate_plot(treatment2_doses, treatment2_title))\n",
    "\n",
    "    elif button_id == 'btn-dual-treatments':\n",
    "        dual_treatment_title = \"Dual treatments\"\n",
    "        dual_doses = torch.from_numpy(np.array([1.0, 1.0], dtype=np.float32)).reshape(1, -1)\n",
    "        figures.append(generate_plot(dual_doses, dual_treatment_title))\n",
    "\n",
    "    elif button_id == 'btn-sequential-treatment':\n",
    "        plot_title = \"Sequential Treatment\"\n",
    "        # Generate a plot for sequential treatment (implement this function)\n",
    "\n",
    "    if figures:\n",
    "        return {'data': [fig.data for fig in figures], 'layout': {'title': plot_title}}\n",
    "    else:\n",
    "        return {}\n",
    "\n",
    "def generate_plot(doses, title):\n",
    "    # Create a line plot for each trait\n",
    "    x_values = [1, 2, 3]\n",
    "    y_values = [4, 1, 2]\n",
    "\n",
    "    data = [go.Scatter(x=x_values, y=y_values, mode='lines', name='Example')]\n",
    "\n",
    "    # Add S trait as a separate trace\n",
    "    data.append(go.Scatter(x=x_values, y=y_values, mode='lines', name='S'))\n",
    "\n",
    "    for i in range(1, N_TREATMENTS + 1):\n",
    "        trait_name = f\"R{i}\"\n",
    "        # Replace x_values and y_values with the appropriate values for the trait\n",
    "        data.append(go.Scatter(x=x_values, y=y_values, mode='lines', name=trait_name))\n",
    "\n",
    "    layout = go.Layout(title=title)\n",
    "    return {'data': data, 'layout': layout}"
   ]
  },
  {
   "cell_type": "code",
   "execution_count": null,
   "id": "de93b45d-7bfb-4cf7-b7f8-cd68bc9380a6",
   "metadata": {},
   "outputs": [],
   "source": []
  }
 ],
 "metadata": {
  "kernelspec": {
   "display_name": "Python 3 (ipykernel)",
   "language": "python",
   "name": "python3"
  },
  "language_info": {
   "codemirror_mode": {
    "name": "ipython",
    "version": 3
   },
   "file_extension": ".py",
   "mimetype": "text/x-python",
   "name": "python",
   "nbconvert_exporter": "python",
   "pygments_lexer": "ipython3",
   "version": "3.9.18"
  }
 },
 "nbformat": 4,
 "nbformat_minor": 5
}
