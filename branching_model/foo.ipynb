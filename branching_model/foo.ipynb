{
 "cells": [
  {
   "cell_type": "code",
   "execution_count": 2,
   "metadata": {},
   "outputs": [
    {
     "data": {
      "text/plain": [
       "['test_plasticity_dash.ipynb',\n",
       " 'Untitled.ipynb',\n",
       " 'io.py',\n",
       " 'tests',\n",
       " '__init__.py',\n",
       " 'test_plasticity.py',\n",
       " '__pycache__',\n",
       " 'test_clone.py',\n",
       " 'foo.ipynb',\n",
       " 'Agent.py',\n",
       " 'Phylogeny.py',\n",
       " 'test_inheritance.py',\n",
       " '.ipynb_checkpoints',\n",
       " '.vscode',\n",
       " 'Clone.py']"
      ]
     },
     "execution_count": 2,
     "metadata": {},
     "output_type": "execute_result"
    }
   ],
   "source": [
    "import os\n",
    "\n",
    "os.listdir('.')"
   ]
  },
  {
   "cell_type": "code",
   "execution_count": null,
   "metadata": {},
   "outputs": [],
   "source": []
  },
  {
   "cell_type": "code",
   "execution_count": null,
   "metadata": {},
   "outputs": [],
   "source": []
  },
  {
   "cell_type": "code",
   "execution_count": null,
   "metadata": {},
   "outputs": [],
   "source": [
    "\n",
    "os.listdir('.')"
   ]
  }
 ],
 "metadata": {
  "kernelspec": {
   "display_name": "branching-model-9wr7ku7V-py3.11",
   "language": "python",
   "name": "python3"
  },
  "language_info": {
   "codemirror_mode": {
    "name": "ipython",
    "version": 3
   },
   "file_extension": ".py",
   "mimetype": "text/x-python",
   "name": "python",
   "nbconvert_exporter": "python",
   "pygments_lexer": "ipython3",
   "version": "3.11.6"
  }
 },
 "nbformat": 4,
 "nbformat_minor": 2
}
